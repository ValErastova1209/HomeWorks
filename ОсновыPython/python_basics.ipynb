{
 "cells": [
  {
   "cell_type": "markdown",
   "metadata": {},
   "source": [
    "**Задание 1**. Даны 2 строки: *long_phrase* и *short_phrase*. \n",
    "Напишите код, который проверяет действительно ли длинная фраза *long_phrase* длиннее короткой *short_phrase*. И выводит *True* или *False* в зависимости от результата сравнения."
   ]
  },
  {
   "cell_type": "code",
   "execution_count": null,
   "metadata": {},
   "outputs": [],
   "source": [
    "long_phrase = 'Насколько проще было бы писать программы, если бы не заказчики'\n",
    "short_phrase = '640Кб должно хватить для любых задач. Билл Гейтс (по легенде)'"
   ]
  },
  {
   "cell_type": "code",
   "execution_count": 19,
   "metadata": {},
   "outputs": [
    {
     "name": "stdout",
     "output_type": "stream",
     "text": [
      "True\n"
     ]
    }
   ],
   "source": [
    "long_phrase = 'Насколько проще было бы писать программы, если бы не заказчики'\n",
    "short_phrase = '640Кб должно хватить для любых задач. Билл Гейтс (по легенде)'\n",
    "\n",
    "if len(long_phrase) > len(short_phrase):\n",
    "    print(True)\n",
    "else:\n",
    "    print(False)"
   ]
  },
  {
   "cell_type": "markdown",
   "metadata": {},
   "source": [
    "**Задание 2**. Дано значение объема файла в байтах (*в мегабайте 2^20 байт*). Напишите перевод этого значения в мегабайты в формате: \"*Объем файла равен 213.68Mb*\"."
   ]
  },
  {
   "cell_type": "code",
   "execution_count": 39,
   "metadata": {},
   "outputs": [
    {
     "name": "stdout",
     "output_type": "stream",
     "text": [
      "Введите объем файла124\n",
      "Объем файла равен 0.000118255615234375 Mb\n"
     ]
    }
   ],
   "source": [
    "number = int(input('Введите объем файла'))\n",
    "x = number / 1024 /1024\n",
    "print('Объем файла равен', x , 'Mb')"
   ]
  },
  {
   "cell_type": "markdown",
   "metadata": {},
   "source": [
    "**Задание 3**. Разработать приложение для определения знака зодиака по дате рождения. Пример:\n",
    "\n",
    "Введите месяц: март\n",
    "\n",
    "Введите число: 6\n",
    "\n",
    "Вывод:\n",
    "Рыбы"
   ]
  },
  {
   "cell_type": "code",
   "execution_count": 43,
   "metadata": {
    "scrolled": true
   },
   "outputs": [
    {
     "name": "stdout",
     "output_type": "stream",
     "text": [
      "Введите месяцдекабрь\n",
      "Введите число22\n",
      "Козерог\n"
     ]
    }
   ],
   "source": [
    "month = input('Введите месяц')\n",
    "number = int(input('Введите число'))\n",
    "if month.lower() == 'январь' and number >= 20:\n",
    "    print('Водолей')\n",
    "elif month.lower() == 'январь' and number <= 19:\n",
    "    print('Козерог')\n",
    "elif month.lower() == 'февраль' and number <= 18:\n",
    "    print('Водолей')\n",
    "elif month.lower() == 'февраль' and number >= 19:\n",
    "    print('Рыбы')\n",
    "elif month.lower() == 'март' and number <= 20:\n",
    "    print('Рыбы')    \n",
    "elif month.lower() == 'март' and number >= 21:\n",
    "    print('Овен')\n",
    "elif month.lower() == 'апрель' and number <= 20:\n",
    "    print('Овен')\n",
    "elif month.lower() == 'апрель' and number >= 21:\n",
    "    print('Телец')\n",
    "elif month.lower() == 'май' and number <= 20:\n",
    "    print('Телец') \n",
    "elif month.lower() == 'май' and number >= 21:\n",
    "    print('Близнецы')\n",
    "elif month.lower()== 'июнь' and number <= 20:\n",
    "    print('Близнецы')\n",
    "elif month.lower() == 'июнь' and number >= 21:\n",
    "    print('Рак')\n",
    "elif month.lower() == 'июль' and number <= 22:\n",
    "    print('Рак')\n",
    "elif month.lower() == 'июль' and number >= 23:\n",
    "    print('Лев')\n",
    "elif month.lower() == 'август' and number <= 22:\n",
    "    print('Лев')\n",
    "elif month.lower() == 'август' and number >= 23:\n",
    "    print('Дева')\n",
    "elif month.lower() == 'сентябрь' and number <= 23:\n",
    "    print('Дева')\n",
    "elif month.lower() == 'сентябрь' and number >= 24:\n",
    "    print('Весы')\n",
    "elif month.lower() == 'октябрь' and number <= 23:\n",
    "    print('Весы')\n",
    "elif month.lower() == 'октябрь' and number >= 24:\n",
    "    print('Скорпион')\n",
    "elif month.lower() == 'ноябрь' and number <= 21:\n",
    "    print('Скорпион')\n",
    "elif month.lower() == 'ноябрь' and number >= 22:\n",
    "    print('Стрелец')\n",
    "elif month.lower() == 'декабрь' and number <= 21:\n",
    "    print('Стрелец')\n",
    "elif month.lower() == 'декабрь' and number >= 22:\n",
    "    print('Козерог')"
   ]
  },
  {
   "cell_type": "markdown",
   "metadata": {},
   "source": [
    "**Задание 4**. Нужно разработать приложение для финансового планирования.\n",
    "Приложение учитывает сколько уходит на ипотеку, \"на жизнь\" и сколько нужно отложить на пенсию.\n",
    "Пользователь вводит:\n",
    "- заработанную плату в месяц.\n",
    "- сколько процентов от ЗП уходит на ипотеку.\n",
    "- сколько процентов от ЗП уходит \"на жизнь\".\n",
    "- сколько раз приходит премия в год.\n",
    "\n",
    "Остальная часть заработанной платы откладывается на пенсию.\n",
    "\n",
    "Также пользователю приходит премия в размере зарплаты, от которой половина уходит на отпуск, а вторая половина откладывается.\n",
    "\n",
    "Программа должна учитывать сколько премий было в год.\n",
    "\n",
    "Нужно вывести сколько денег тратит пользователь на ипотеку и сколько он накопит за год.\n",
    "\n",
    "Пример:\n",
    "\n",
    "Введите заработанную плату в месяц: 100000\n",
    "\n",
    "Введите сколько процентов уходит на ипотеку: 30\n",
    "\n",
    "Введите сколько процентов уходит на жизнь: 50\n",
    "\n",
    "Введите количество премий за год: 2\n",
    "\n",
    "Вывод:\n",
    "На ипотеку было потрачено: 360000 рублей\n",
    "Было накоплено: 340000 рублей"
   ]
  },
  {
   "cell_type": "code",
   "execution_count": 46,
   "metadata": {},
   "outputs": [
    {
     "name": "stdout",
     "output_type": "stream",
     "text": [
      "Введите заработанную плату в месяц100000\n",
      "Введите сколько процентов уходит на ипотеку30\n",
      "Введите сколько процентов уходит на жизнь50\n",
      "Введите количество премий за год2\n",
      "На ипотеку было потрачено: 360000.0 рублей Было накоплено: 340000.0 рублей\n"
     ]
    }
   ],
   "source": [
    "salary = int(input('Введите заработанную плату в месяц'))\n",
    "mortgage = int(input('Введите сколько процентов уходит на ипотеку'))\n",
    "life = int(input('Введите сколько процентов уходит на жизнь'))\n",
    "prize = int(input('Введите количество премий за год'))\n",
    "prize = salary * prize\n",
    "pension = prize / 2\n",
    "salary = salary * 12\n",
    "mortgage = salary * mortgage / 100\n",
    "life = salary * life / 100\n",
    "pension = salary - mortgage - life + pension\n",
    "print('На ипотеку было потрачено:', mortgage, 'рублей', 'Было накоплено:', pension, 'рублей')"
   ]
  },
  {
   "cell_type": "markdown",
   "metadata": {},
   "source": []
  }
 ],
 "metadata": {
  "kernelspec": {
   "display_name": "Python 3",
   "language": "python",
   "name": "python3"
  },
  "language_info": {
   "codemirror_mode": {
    "name": "ipython",
    "version": 3
   },
   "file_extension": ".py",
   "mimetype": "text/x-python",
   "name": "python",
   "nbconvert_exporter": "python",
   "pygments_lexer": "ipython3",
   "version": "3.7.6"
  }
 },
 "nbformat": 4,
 "nbformat_minor": 2
}
